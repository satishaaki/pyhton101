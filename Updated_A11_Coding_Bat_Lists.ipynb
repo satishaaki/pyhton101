{
  "nbformat": 4,
  "nbformat_minor": 0,
  "metadata": {
    "colab": {
      "provenance": [],
      "toc_visible": true,
      "include_colab_link": true
    },
    "kernelspec": {
      "name": "python3",
      "display_name": "Python 3"
    },
    "language_info": {
      "name": "python"
    }
  },
  "cells": [
    {
      "cell_type": "markdown",
      "metadata": {
        "id": "view-in-github",
        "colab_type": "text"
      },
      "source": [
        "<a href=\"https://colab.research.google.com/github/satishaaki/pyhton101/blob/main/Updated_A11_Coding_Bat_Lists.ipynb\" target=\"_parent\"><img src=\"https://colab.research.google.com/assets/colab-badge.svg\" alt=\"Open In Colab\"/></a>"
      ]
    },
    {
      "cell_type": "markdown",
      "source": [
        "# Python 101: Python Programming with Dr. Jasthi\n",
        "Assignment 11 (Coding Bat: List Problems)\n",
        "\n",
        "Instructions:\n",
        "\n",
        "1. Click on the link given in each problem.\n",
        "2. Solve the problem at codingbat.com\n",
        "3. Ensure that all the test cases are passing there.\n",
        "4. Copy the final code into the google colab notebook\n",
        "5. Each problem is worth 1 point and there are 10 problems.\n",
        "6. You can also attempt (sum13) problem for an extra credit of 5 points\n"
      ],
      "metadata": {
        "id": "cQy_GF2mcHR8"
      }
    },
    {
      "cell_type": "code",
      "source": [
        "#@title 0. Middle Elements (Example) ( https://codingbat.com/prob/p171011)\n",
        "# Instructor will solve and show this problem to show the process\n",
        "\n",
        "def middle_way(a, b):\n",
        "  m_a = a[1]\n",
        "  m_b = b[1]\n",
        "  new_list = [m_a, m_b]\n",
        "  return new_list\n",
        "\n",
        "# Testing\n",
        "print(middle_way([1, 2, 3], [4, 5, 6])) # → [2, 5]\n",
        "print(middle_way([7, 7, 7], [3, 8, 0])) # → [7, 8]\n",
        "print(middle_way([5, 2, 9], [1, 4, 5])) # → [2, 4]\n"
      ],
      "metadata": {
        "id": "EL1SvMAGh5UN",
        "colab": {
          "base_uri": "https://localhost:8080/"
        },
        "outputId": "e0d6ed9c-f835-4239-ff36-c5c5e006eeb8"
      },
      "execution_count": 1,
      "outputs": [
        {
          "output_type": "stream",
          "name": "stdout",
          "text": [
            "[2, 5]\n",
            "[7, 8]\n",
            "[2, 4]\n"
          ]
        }
      ]
    },
    {
      "cell_type": "code",
      "source": [
        "#@title 1. Common End  ( https://codingbat.com/prob/p147755 )\n",
        "# Solve the problem and paste the code here\n",
        "def common_end(nums1,nums2):\n",
        "  length1=len(nums1)-1\n",
        "  length2=len(nums2)-1\n",
        "  if(nums1[length1]==nums2[length2]):\n",
        "    return True\n",
        "  else:\n",
        "    return False  \n",
        "\n",
        "\n",
        "\n",
        "# Testing\n",
        "# True\n",
        "print(common_end([1, 2, 3], [7, 3])) \n",
        "\n",
        "# False\n",
        "print(common_end([1, 2, 3], [7, 3, 2])) \n",
        "\n",
        "# True\n",
        "print(common_end([1, 2, 3], [1, 3])) "
      ],
      "metadata": {
        "id": "41L2HdFXd8nF",
        "outputId": "10870f20-e9de-4d3a-9921-6bf285afc3d0",
        "colab": {
          "base_uri": "https://localhost:8080/"
        }
      },
      "execution_count": 2,
      "outputs": [
        {
          "output_type": "stream",
          "name": "stdout",
          "text": [
            "True\n",
            "False\n",
            "True\n"
          ]
        }
      ]
    },
    {
      "cell_type": "code",
      "source": [
        "#@title 2. Sum 3  ( https://codingbat.com/prob/p191645 )\n",
        "# Solve the problem and paste the code here\n",
        "def sum3(nums):\n",
        "  sum=0\n",
        "  for i in nums:\n",
        "    sum=sum+i\n",
        "  return sum  \n",
        "\n",
        "\n",
        "\n",
        "# Testing\n",
        "\n",
        "# 6\n",
        "print(sum3([1, 2, 3])) \n",
        "\n",
        "# 18\n",
        "print(sum3([5, 11, 2])) \n",
        "\n",
        "# 7\n",
        "print(sum3([7, 0, 0])) "
      ],
      "metadata": {
        "id": "TkagmaBXcsQx"
      },
      "execution_count": null,
      "outputs": []
    },
    {
      "cell_type": "code",
      "source": [
        "#@title 3. rotate_left3  ( https://codingbat.com/prob/p148661 )\n",
        "# Solve the problem and paste the code here\n",
        "def rotate_left3(nums):\n",
        "  x=nums[0]\n",
        "  for i in range(0,len(nums)-1):\n",
        "    if(i==len(nums)):\n",
        "      break\n",
        "    else:\n",
        "      nums[i]=nums[i+1]\n",
        "  nums[i+1]=x\n",
        "  return nums\n",
        "\n",
        "\n",
        "\n",
        "# Testing\n",
        "\n",
        "# [2, 3, 1]\n",
        "print(rotate_left3([1, 2, 3])) \n",
        "\n",
        "# [11, 9, 5]\n",
        "print(rotate_left3([5, 11, 9]))\n",
        "\n",
        "# [0, 0, 7]\n",
        "print(rotate_left3([7, 0, 0])) "
      ],
      "metadata": {
        "id": "ZeqsHP7BeNJv",
        "outputId": "c61f34e5-b847-4062-9dd0-530312918853",
        "colab": {
          "base_uri": "https://localhost:8080/"
        }
      },
      "execution_count": 2,
      "outputs": [
        {
          "output_type": "stream",
          "name": "stdout",
          "text": [
            "[2, 3, 1]\n",
            "[11, 9, 5]\n",
            "[0, 0, 7]\n"
          ]
        }
      ]
    },
    {
      "cell_type": "code",
      "source": [
        "#@title 4. reverse 3  ( https://codingbat.com/prob/p192962 )\n",
        "# Solve the problem and paste the code here\n",
        "def reverse3(nums):\n",
        "  length=len(nums)\n",
        "  j=length-1\n",
        "  i=0\n",
        "  temp=0\n",
        "  while(i<length/2):\n",
        "    temp=nums[i]\n",
        "    nums[i]=nums[j]\n",
        "    nums[j]=temp\n",
        "    i=i+1\n",
        "    j=j-1\n",
        "  return nums  \n",
        "\n",
        "\n",
        "# Testing\n",
        "\n",
        "# [3, 2, 1]\n",
        "print(reverse3([1, 2, 3]))\n",
        "\n",
        "# [9, 11, 5]\n",
        "print(reverse3([5, 11, 9]))\n",
        "\n",
        "# [0, 0, 7]\n",
        "print(reverse3([7, 0, 0]))"
      ],
      "metadata": {
        "id": "1hBNOuw0ebIv"
      },
      "execution_count": null,
      "outputs": []
    },
    {
      "cell_type": "code",
      "source": [
        "#@title 5. max_end3  ( https://codingbat.com/prob/p135290 )\n",
        "# Solve the problem and paste the code here\n",
        "def max_end3(nums):\n",
        "  maximum=max(nums)\n",
        "  for i in range(0,len(nums)):\n",
        "    if((nums[0]==nums[len(nums)-1])):\n",
        "      nums[i]=nums[0]\n",
        "    elif((maximum==3)):\n",
        "      nums[i]=3\n",
        "    else:\n",
        "      nums[i]=maximum\n",
        "  return nums  \n",
        "\n",
        "\n",
        "\n",
        "# Testing\n",
        "\n",
        "# [3, 3, 3]\n",
        "print(max_end3([1, 2, 3]))\n",
        "\n",
        "# [11, 11, 11]\n",
        "print(max_end3([11, 5, 9]))\n",
        "\n",
        "# [3, 3, 3]\n",
        "print(max_end3([2, 11, 3]))"
      ],
      "metadata": {
        "id": "OUIoWGQQewbA"
      },
      "execution_count": null,
      "outputs": []
    },
    {
      "cell_type": "code",
      "source": [
        "#@title 6. sum2  ( https://codingbat.com/prob/p192589 )\n",
        "# Solve the problem and paste the code here\n",
        "def sum2(nums):\n",
        "  sum=nums[0]+nums[1]\n",
        "  return sum\n",
        "\n",
        "\n",
        "# Testing\n",
        "\n",
        "# 3\n",
        "print(sum2([1, 2, 3]))\n",
        "\n",
        "# 2\n",
        "print(sum2([1, 1]))\n",
        "\n",
        "# 2\n",
        "print(sum2([1, 1, 1, 1]))"
      ],
      "metadata": {
        "id": "X2mtj_voewmC",
        "outputId": "c8d04735-34f5-4a01-a3e4-370ffdf3f6f5",
        "colab": {
          "base_uri": "https://localhost:8080/"
        }
      },
      "execution_count": 1,
      "outputs": [
        {
          "output_type": "stream",
          "name": "stdout",
          "text": [
            "3\n",
            "2\n",
            "2\n"
          ]
        }
      ]
    },
    {
      "cell_type": "code",
      "source": [
        "#@title 7. make ends  ( https://codingbat.com/prob/p124806 )\n",
        "# Solve the problem and paste the code here\n",
        "\n",
        "def make_ends(nums):\n",
        "  array=[]\n",
        "  length=len(nums)\n",
        "  array.append(nums[0])\n",
        "  array.append(nums[length-1])\n",
        "  return array\n",
        "\n",
        "\n",
        "# Testing\n",
        "\n",
        "# [1, 3]\n",
        "print(make_ends([1, 2, 3]))\n",
        "\n",
        "# [1, 4]\n",
        "print(make_ends([1, 2, 3, 4]))\n",
        "\n",
        "# [7, 2]\n",
        "print(make_ends([7, 4, 6, 2]))"
      ],
      "metadata": {
        "id": "GfgyB0Opewzm"
      },
      "execution_count": null,
      "outputs": []
    },
    {
      "cell_type": "code",
      "source": [
        "#@title 8. Big Difference  ( https://codingbat.com/prob/p184853 )\n",
        "# Solve the problem and paste the code here\n",
        "def big_diff(nums):\n",
        "  maximum=max(nums)\n",
        "  minimum=min(nums)\n",
        "  diff=maximum-minimum\n",
        "  return diff\n",
        "\n",
        "\n",
        "\n",
        "# Testing\n",
        "\n",
        "# 7\n",
        "print(big_diff([10, 3, 5, 6]))\n",
        "\n",
        "# 8\n",
        "print(big_diff([7, 2, 10, 9]))\n",
        "\n",
        "# 8\n",
        "print(big_diff([2, 10, 7, 2]))"
      ],
      "metadata": {
        "id": "91SlUdjFcwUx"
      },
      "execution_count": null,
      "outputs": []
    },
    {
      "cell_type": "code",
      "source": [
        "#@title 9. Centered Average  ( https://codingbat.com/prob/p126968 )\n",
        "# Solve the problem and paste the code here\n",
        "def centered_average(nums):\n",
        "  length=len(nums)\n",
        "  maximum=max(nums)\n",
        "  minimum=min(nums)\n",
        "  flag1=True\n",
        "  flag2=True\n",
        "  sum=0\n",
        "  for i in range(0,len(nums)):\n",
        "    if((nums[i]==maximum)and flag1):\n",
        "      flag1=False\n",
        "      continue\n",
        "    if(not(flag1)):\n",
        "      sum=sum+nums[i]\n",
        "    if((nums[i]==minimum)and flag2):\n",
        "      flag2=False\n",
        "      continue\n",
        "    if(not(flag2)):\n",
        "      sum=sum+nums[i]  \n",
        "  return sum//(length-2)    \n",
        "\n",
        "\n",
        "# Testing\n",
        "\n",
        "# 3\n",
        "print(centered_average([1, 2, 3, 4, 100]))\n",
        "\n",
        "# 5\n",
        "print(centered_average([1, 1, 5, 5, 10, 8, 7]))\n",
        "\n",
        "# -3\n",
        "print(centered_average([-10, -4, -2, -4, -2, 0]))"
      ],
      "metadata": {
        "id": "uhSosg_xc9s8",
        "outputId": "e18ad9a0-a665-4ec2-cfc9-f8365462f376",
        "colab": {
          "base_uri": "https://localhost:8080/"
        }
      },
      "execution_count": 3,
      "outputs": [
        {
          "output_type": "stream",
          "name": "stdout",
          "text": [
            "3\n",
            "8\n",
            "-3\n"
          ]
        }
      ]
    },
    {
      "cell_type": "code",
      "source": [
        "#@title 10. Has 22  ( https://codingbat.com/prob/p119308 )\n",
        "# Solve the problem and paste the code here\n",
        "def has22(nums):\n",
        "  for i in range(0,len(nums)-1):\n",
        "    if((nums[i]==2)and(nums[i+1]==2)):\n",
        "      return True\n",
        "      break\n",
        "    if(i+2==len(nums) and ((nums[i]==2) and (nums[i+1]==2))):\n",
        "      return True\n",
        "  return False \n",
        "\n",
        "# Testing\n",
        "\n",
        "# True\n",
        "print(has22([1, 2, 2]))\n",
        "\n",
        "# False\n",
        "print(has22([1, 2, 1, 2]))\n",
        "\n",
        "# False\n",
        "print(has22([2, 1, 2]))"
      ],
      "metadata": {
        "id": "pH59bElYdcYv",
        "outputId": "629a1567-2980-4620-82a8-35bc417dc1b7",
        "colab": {
          "base_uri": "https://localhost:8080/"
        }
      },
      "execution_count": 9,
      "outputs": [
        {
          "output_type": "stream",
          "name": "stdout",
          "text": [
            "True\n",
            "False\n",
            "False\n"
          ]
        }
      ]
    },
    {
      "cell_type": "markdown",
      "source": [
        "# Extra Credit (5 Points)\n",
        "### Solve this problem 11 only after you solved all the above 10 basic problems"
      ],
      "metadata": {
        "id": "ATKAUuJrfpiB"
      }
    },
    {
      "cell_type": "code",
      "source": [
        "#@title 11. Sum 13 problem  ( https://codingbat.com/prob/p167025 )\n",
        "# Solve the problem and paste the code here\n",
        "def sum13(nums):\n",
        "  sum=0\n",
        "  for i in range(0,len(nums)):\n",
        "    if(nums[i]==13):\n",
        "      continue\n",
        "    if(nums[i-1]==13 and i!=0):\n",
        "      continue\n",
        "    sum=sum+nums[i]\n",
        "  return sum    \n",
        "\n",
        "# Testing\n",
        "\n",
        "# 6\n",
        "print(sum13([1, 2, 2, 1]))\n",
        "\n",
        "# 2\n",
        "print(sum13([1, 1]))\n",
        "\n",
        "# 6\n",
        "print(sum13([1, 2, 2, 1, 13]))"
      ],
      "metadata": {
        "id": "7AiLZTMSdJQ-",
        "outputId": "9ff4f875-6eb9-4a9e-f992-a07f176fe55b",
        "colab": {
          "base_uri": "https://localhost:8080/"
        }
      },
      "execution_count": 11,
      "outputs": [
        {
          "output_type": "stream",
          "name": "stdout",
          "text": [
            "6\n",
            "2\n",
            "6\n"
          ]
        }
      ]
    }
  ]
}