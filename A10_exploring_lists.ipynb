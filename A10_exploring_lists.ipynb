{
  "nbformat": 4,
  "nbformat_minor": 0,
  "metadata": {
    "colab": {
      "provenance": [],
      "toc_visible": true,
      "include_colab_link": true
    },
    "kernelspec": {
      "name": "python3",
      "display_name": "Python 3"
    },
    "language_info": {
      "name": "python"
    }
  },
  "cells": [
    {
      "cell_type": "markdown",
      "metadata": {
        "id": "view-in-github",
        "colab_type": "text"
      },
      "source": [
        "<a href=\"https://colab.research.google.com/github/satishaaki/pyhton101/blob/main/A10_exploring_lists.ipynb\" target=\"_parent\"><img src=\"https://colab.research.google.com/assets/colab-badge.svg\" alt=\"Open In Colab\"/></a>"
      ]
    },
    {
      "cell_type": "markdown",
      "source": [
        "# Lists\n"
      ],
      "metadata": {
        "id": "HpIJY9lvgjMV"
      }
    },
    {
      "cell_type": "markdown",
      "source": [
        "* https://www.w3schools.com/python/python_ref_list.asp  (Python List Methods)\n",
        "* https://www.w3schools.com/python/python_ref_functions.asp (Python Built-in Functions)"
      ],
      "metadata": {
        "id": "imH1nSNBUuG_"
      }
    },
    {
      "cell_type": "code",
      "source": [
        "#@title Lists: An Introduction\n",
        "\n",
        "Data Type\n",
        "List Type"
      ],
      "metadata": {
        "id": "iE_KtgxUn4at"
      },
      "execution_count": null,
      "outputs": []
    },
    {
      "cell_type": "code",
      "source": [
        "#@title 1.Creating an empty list\n",
        "x=[]\n",
        "print(x)"
      ],
      "metadata": {
        "id": "4GnRakGpUz8V",
        "outputId": "36a0a844-2bb3-4b93-bdd4-61e8924353ea",
        "colab": {
          "base_uri": "https://localhost:8080/"
        }
      },
      "execution_count": 1,
      "outputs": [
        {
          "output_type": "stream",
          "name": "stdout",
          "text": [
            "[]\n"
          ]
        }
      ]
    },
    {
      "cell_type": "code",
      "source": [
        "#@title 2.Creating a list with some elements\n",
        "x=[1,2,3,\"list\"]\n",
        "print(x)"
      ],
      "metadata": {
        "id": "uCm9yPLDU0O0",
        "outputId": "33fb7aae-c44f-4ade-c093-aa3f35f28226",
        "colab": {
          "base_uri": "https://localhost:8080/"
        }
      },
      "execution_count": 2,
      "outputs": [
        {
          "output_type": "stream",
          "name": "stdout",
          "text": [
            "[1, 2, 3, 'list']\n"
          ]
        }
      ]
    },
    {
      "cell_type": "code",
      "source": [
        "#@title 3.Adding elements at the end\n",
        "x=[1,2,3]\n",
        "x.append(4)\n",
        "print(x)"
      ],
      "metadata": {
        "id": "rEpmqm7MU0Si",
        "outputId": "14a4e70b-c344-4556-dcdc-9ecb9db3bf18",
        "colab": {
          "base_uri": "https://localhost:8080/"
        }
      },
      "execution_count": 3,
      "outputs": [
        {
          "output_type": "stream",
          "name": "stdout",
          "text": [
            "[1, 2, 3, 4]\n"
          ]
        }
      ]
    },
    {
      "cell_type": "code",
      "source": [
        "#@title 4.Accessing an element (positive index)\n",
        "# also known as \"Reading an element\"\n",
        "# also known as \"Setting an element\"\n",
        "x=[1,2,3,4,5]\n",
        "print(x[1])"
      ],
      "metadata": {
        "id": "AMTpZsLMU0Vr",
        "outputId": "adb41fae-137a-4c18-cccb-ab82ed2c4863",
        "colab": {
          "base_uri": "https://localhost:8080/"
        }
      },
      "execution_count": 4,
      "outputs": [
        {
          "output_type": "stream",
          "name": "stdout",
          "text": [
            "2\n"
          ]
        }
      ]
    },
    {
      "cell_type": "code",
      "source": [
        "#@title 5.Accessing an element (through Negative Indexing)\n",
        "# also known as \"Reading an element\"\n",
        "# also known as \"Setting an element\"\n",
        "x=[1,2,3,4,5]\n",
        "print(x[-1])"
      ],
      "metadata": {
        "id": "VWaPKymnXdtx",
        "outputId": "0265336d-3602-47a1-d408-08d8e9b80f03",
        "colab": {
          "base_uri": "https://localhost:8080/"
        }
      },
      "execution_count": 5,
      "outputs": [
        {
          "output_type": "stream",
          "name": "stdout",
          "text": [
            "5\n"
          ]
        }
      ]
    },
    {
      "cell_type": "code",
      "source": [
        "#@title 6.Adding an element at the front of the list\n",
        "x=[1,2,3,4,5]\n",
        "x.insert(0,0)\n",
        "print(x)"
      ],
      "metadata": {
        "id": "dSKr5_20U0YS",
        "outputId": "1ddedcf5-b5fb-454e-ccd9-55ec509b96b9",
        "colab": {
          "base_uri": "https://localhost:8080/"
        }
      },
      "execution_count": 6,
      "outputs": [
        {
          "output_type": "stream",
          "name": "stdout",
          "text": [
            "[0, 1, 2, 3, 4, 5]\n"
          ]
        }
      ]
    },
    {
      "cell_type": "code",
      "source": [
        "#@title 7.Adding an element anywhere (at a specific index)\n",
        "x=[1,2,3,4,5]\n",
        "#inserting element at index 3\n",
        "x.insert(3,35)\n",
        "print(x)"
      ],
      "metadata": {
        "id": "jvMJf2-2U0bM",
        "outputId": "6ddff5ce-af2e-475f-864e-b18f2802c383",
        "colab": {
          "base_uri": "https://localhost:8080/"
        }
      },
      "execution_count": 7,
      "outputs": [
        {
          "output_type": "stream",
          "name": "stdout",
          "text": [
            "[1, 2, 3, 35, 4, 5]\n"
          ]
        }
      ]
    },
    {
      "cell_type": "code",
      "source": [
        "#@title 8.Updating (or Replacing) an element\n",
        "x=[1,2,3,4,5]\n",
        "x[0]=0\n",
        "print(x)"
      ],
      "metadata": {
        "id": "DUG9xlraaTlO",
        "outputId": "5ace459e-c254-4c71-d341-c7267f11111c",
        "colab": {
          "base_uri": "https://localhost:8080/"
        }
      },
      "execution_count": 8,
      "outputs": [
        {
          "output_type": "stream",
          "name": "stdout",
          "text": [
            "[0, 2, 3, 4, 5]\n"
          ]
        }
      ]
    },
    {
      "cell_type": "code",
      "source": [
        "#@title 9.Looping through the list (just for READING)\n",
        "x=[1,2,3,4,5]\n",
        "for i in x:\n",
        "  print(i) "
      ],
      "metadata": {
        "id": "F6P3NNhFU0j8",
        "outputId": "8221272b-1e3b-40a4-90ca-bcb01989f0fb",
        "colab": {
          "base_uri": "https://localhost:8080/"
        }
      },
      "execution_count": 9,
      "outputs": [
        {
          "output_type": "stream",
          "name": "stdout",
          "text": [
            "1\n",
            "2\n",
            "3\n",
            "4\n",
            "5\n"
          ]
        }
      ]
    },
    {
      "cell_type": "code",
      "source": [
        "#@title 10.Looping through the list (for UPDATING)\n",
        "x=[1,2,3,4,5,6]\n",
        "length=len(x)\n",
        "for i in range(length):\n",
        "  x[i]=x[i]+10\n",
        "print(x)\n"
      ],
      "metadata": {
        "id": "QFJmGzYOU0nG",
        "outputId": "deb52907-0898-42f0-a69f-96f7da23fe58",
        "colab": {
          "base_uri": "https://localhost:8080/"
        }
      },
      "execution_count": 3,
      "outputs": [
        {
          "output_type": "stream",
          "name": "stdout",
          "text": [
            "[11, 12, 13, 14, 15, 16]\n"
          ]
        }
      ]
    },
    {
      "cell_type": "code",
      "source": [
        "#@title 11.Common Operations: Find the length of the list\n",
        "# Find the number of elements in the list\n",
        "x=[1,2,3,4,5,6]\n",
        "length=0\n",
        "for i in x:\n",
        "  length=length+1\n",
        "print(\"The lenght of the list:\",length) \n"
      ],
      "metadata": {
        "id": "_OiuJHIeU0p6",
        "outputId": "5ef8d981-487f-4192-a21e-65223bea0749",
        "colab": {
          "base_uri": "https://localhost:8080/"
        }
      },
      "execution_count": 4,
      "outputs": [
        {
          "output_type": "stream",
          "name": "stdout",
          "text": [
            "The lenght of the list: 6\n"
          ]
        }
      ]
    },
    {
      "cell_type": "code",
      "source": [
        "#@title 12.Common Operations: Find the maximum in the list\n",
        "x=[1,2,3,4,5,100]\n",
        "print(\"Maximum of the list:\",max(x))"
      ],
      "metadata": {
        "id": "IhGhO_XxU0tB",
        "outputId": "6798ad0d-f077-40be-a3e0-aee2716df7c4",
        "colab": {
          "base_uri": "https://localhost:8080/"
        }
      },
      "execution_count": 5,
      "outputs": [
        {
          "output_type": "stream",
          "name": "stdout",
          "text": [
            "Maximum of the list: 100\n"
          ]
        }
      ]
    },
    {
      "cell_type": "code",
      "source": [
        "#@title 13.Common Operations: Find the minimum in the list\n",
        "x=[100,5,200,240,109,190]\n",
        "print(\"Minimum of the list:\",min(x))"
      ],
      "metadata": {
        "id": "D4vmqhUHYaVC",
        "outputId": "33d4c811-33de-4db7-e762-d28832cf70e5",
        "colab": {
          "base_uri": "https://localhost:8080/"
        }
      },
      "execution_count": 6,
      "outputs": [
        {
          "output_type": "stream",
          "name": "stdout",
          "text": [
            "Minimum of the list: 5\n"
          ]
        }
      ]
    },
    {
      "cell_type": "code",
      "source": [
        "#@title 14.Common Operations: Find the sum of elements in the list\n",
        "x=[1,2,3,4,5,6]\n",
        "sum=0\n",
        "for i in range(len(x)):\n",
        "  sum=sum+x[i]\n",
        "print(\"Sum of elements list:\",sum)  \n"
      ],
      "metadata": {
        "id": "ULNy2XkGYd5g",
        "outputId": "9ded8669-ec97-428b-afde-e09aae532a8a",
        "colab": {
          "base_uri": "https://localhost:8080/"
        }
      },
      "execution_count": 8,
      "outputs": [
        {
          "output_type": "stream",
          "name": "stdout",
          "text": [
            "Sum of elements list: 21\n"
          ]
        }
      ]
    },
    {
      "cell_type": "code",
      "source": [
        "#@title 14.Removing an element by value\n",
        "x=[1,2,3,4,5,6]\n",
        "x.remove(4)\n",
        "print(x)\n"
      ],
      "metadata": {
        "id": "8UfCeQSpYwFB",
        "outputId": "9f5308b9-b97d-4e55-bb62-b2c97d89b144",
        "colab": {
          "base_uri": "https://localhost:8080/"
        }
      },
      "execution_count": 9,
      "outputs": [
        {
          "output_type": "stream",
          "name": "stdout",
          "text": [
            "[1, 2, 3, 5, 6]\n"
          ]
        }
      ]
    },
    {
      "cell_type": "code",
      "source": [
        "#@title 15.Removing the last element in the list\n",
        "x=[1,2,3,4,5,6]\n",
        "x.pop()\n",
        "print(x)\n"
      ],
      "metadata": {
        "id": "8pLgwYe0YwOY",
        "outputId": "7da07f22-6124-48ba-ea95-a9a5ff50499e",
        "colab": {
          "base_uri": "https://localhost:8080/"
        }
      },
      "execution_count": 10,
      "outputs": [
        {
          "output_type": "stream",
          "name": "stdout",
          "text": [
            "[1, 2, 3, 4, 5]\n"
          ]
        }
      ]
    },
    {
      "cell_type": "code",
      "source": [
        "#@title 16.Removing an element at a given index\n",
        "x=[1,2,3,4,5,6]\n",
        "x.pop(2)\n",
        "print(x)\n"
      ],
      "metadata": {
        "id": "2jpc-7ppYwb_",
        "outputId": "57fe802a-8426-41f1-8e79-e28af704b5d1",
        "colab": {
          "base_uri": "https://localhost:8080/"
        }
      },
      "execution_count": 11,
      "outputs": [
        {
          "output_type": "stream",
          "name": "stdout",
          "text": [
            "[1, 2, 4, 5, 6]\n"
          ]
        }
      ]
    },
    {
      "cell_type": "code",
      "source": [
        "#@title 17.Extending a list\n",
        "#(Adding several elements to one list)\n",
        "x=[1,2,3,4,5,6]\n",
        "y=[7,8,9,10]\n",
        "x.extend(y)\n",
        "print(x)\n"
      ],
      "metadata": {
        "id": "f9CutvMNYwn6",
        "outputId": "22a32e52-8aef-44c2-e31a-454272dc45f7",
        "colab": {
          "base_uri": "https://localhost:8080/"
        }
      },
      "execution_count": 12,
      "outputs": [
        {
          "output_type": "stream",
          "name": "stdout",
          "text": [
            "[1, 2, 3, 4, 5, 6, 7, 8, 9, 10]\n"
          ]
        }
      ]
    },
    {
      "cell_type": "code",
      "source": [
        "#@title 18.Search for an element. What is the index?\n",
        "x=[1,2,3,4,5,6,7]\n",
        "print(x.index(4))\n"
      ],
      "metadata": {
        "id": "S7JBtxoufmw0",
        "outputId": "7199c5db-859a-486f-8511-fde1e826f40b",
        "colab": {
          "base_uri": "https://localhost:8080/"
        }
      },
      "execution_count": 14,
      "outputs": [
        {
          "output_type": "stream",
          "name": "stdout",
          "text": [
            "3\n"
          ]
        }
      ]
    },
    {
      "cell_type": "code",
      "source": [
        "#@title 19.Count the number of times an element is appearing\n",
        "x=[1,2,3,4,5,6,3,3,4]\n",
        "print(x.count(3))\n",
        "print(x.count(4))\n",
        "\n"
      ],
      "metadata": {
        "id": "xtYWNnRUfykZ",
        "outputId": "4965c9cd-e4f3-489e-d59e-cdfb15b1c7dd",
        "colab": {
          "base_uri": "https://localhost:8080/"
        }
      },
      "execution_count": 15,
      "outputs": [
        {
          "output_type": "stream",
          "name": "stdout",
          "text": [
            "3\n",
            "2\n"
          ]
        }
      ]
    },
    {
      "cell_type": "code",
      "execution_count": 17,
      "metadata": {
        "colab": {
          "base_uri": "https://localhost:8080/"
        },
        "id": "HzdJE7DjkZ7-",
        "outputId": "483986ba-964d-4823-9c1a-f623abe8b334"
      },
      "outputs": [
        {
          "output_type": "stream",
          "name": "stdout",
          "text": [
            "True\n",
            "False\n"
          ]
        }
      ],
      "source": [
        "#@title 20.Checking for Membership (in)\n",
        "x=[1,2,3,4,5]\n",
        "print(5 in x)\n",
        "print(6 in x)"
      ]
    },
    {
      "cell_type": "code",
      "source": [
        "#@title 21.Checking for Membership (not in)\n",
        "x=[1,2,3,4,5]\n",
        "print(5 not in x)\n",
        "print(6 not in x)"
      ],
      "metadata": {
        "id": "0jlu0amZfUYv",
        "outputId": "ee084d72-42eb-4424-895b-2fbdcbeb9681",
        "colab": {
          "base_uri": "https://localhost:8080/"
        }
      },
      "execution_count": 18,
      "outputs": [
        {
          "output_type": "stream",
          "name": "stdout",
          "text": [
            "False\n",
            "True\n"
          ]
        }
      ]
    },
    {
      "cell_type": "code",
      "source": [
        "#@title 22.Reverse a list\n",
        "\n",
        "x=[1,2,3,4,5]\n",
        "x.reverse()\n",
        "print(x)"
      ],
      "metadata": {
        "id": "4ss-JZlugMdZ",
        "outputId": "2edec46f-ddc0-4166-9876-2297ddbbee29",
        "colab": {
          "base_uri": "https://localhost:8080/"
        }
      },
      "execution_count": 20,
      "outputs": [
        {
          "output_type": "stream",
          "name": "stdout",
          "text": [
            "[5, 4, 3, 2, 1]\n"
          ]
        }
      ]
    },
    {
      "cell_type": "code",
      "source": [
        "#@title 23.Sort a list\n",
        "x=[5,9,2,10,1]\n",
        "x.sort()\n",
        "print(x)\n"
      ],
      "metadata": {
        "id": "XNEHDoaFgop0",
        "outputId": "fef8cd18-2de5-4828-8505-6c8331ada81e",
        "colab": {
          "base_uri": "https://localhost:8080/"
        }
      },
      "execution_count": 21,
      "outputs": [
        {
          "output_type": "stream",
          "name": "stdout",
          "text": [
            "[1, 2, 5, 9, 10]\n"
          ]
        }
      ]
    },
    {
      "cell_type": "code",
      "source": [
        "#@title 24.Copy a list (Caution: Don't reassign)\n",
        "x=[1,2,3,4,5]\n",
        "y=x.copy()\n",
        "print(y)"
      ],
      "metadata": {
        "id": "OKubdzAkhAzu",
        "outputId": "2692d58b-5c9e-46fb-94a4-ba2577894796",
        "colab": {
          "base_uri": "https://localhost:8080/"
        }
      },
      "execution_count": 24,
      "outputs": [
        {
          "output_type": "stream",
          "name": "stdout",
          "text": [
            "[1, 2, 3, 4, 5]\n"
          ]
        }
      ]
    },
    {
      "cell_type": "code",
      "source": [
        "#@title 25.Clear (Empty) a list\n",
        "#Delete all the elements in the list\n",
        "x=[1,2,3,4,5]\n",
        "x.clear()\n",
        "print(x)\n"
      ],
      "metadata": {
        "id": "EtzP3vuKgt8T",
        "outputId": "ed488a92-73c2-4a7b-ce78-999f40611cf3",
        "colab": {
          "base_uri": "https://localhost:8080/"
        }
      },
      "execution_count": 25,
      "outputs": [
        {
          "output_type": "stream",
          "name": "stdout",
          "text": [
            "[]\n"
          ]
        }
      ]
    },
    {
      "cell_type": "code",
      "source": [
        "#@title 26.Delete the entire list\n",
        "x=[1,2,3,4,5]\n",
        "del()\n",
        "print(x)"
      ],
      "metadata": {
        "id": "Kio7904Bh1uk",
        "outputId": "2a5b11c0-1db5-43ca-cb80-102abbdfb5bc",
        "colab": {
          "base_uri": "https://localhost:8080/"
        }
      },
      "execution_count": 29,
      "outputs": [
        {
          "output_type": "stream",
          "name": "stdout",
          "text": [
            "[1, 2, 3, 4, 5]\n"
          ]
        }
      ]
    },
    {
      "cell_type": "code",
      "source": [
        "#@title 27.Cool Operation: You can add lists"
      ],
      "metadata": {
        "id": "xrsUOIOmiGT7"
      },
      "execution_count": null,
      "outputs": []
    },
    {
      "cell_type": "code",
      "source": [
        "#@title 28.Cool Operation: You can multiply/repeat a list"
      ],
      "metadata": {
        "id": "daHyLToliKFa"
      },
      "execution_count": null,
      "outputs": []
    },
    {
      "cell_type": "code",
      "source": [
        "#@title 29.Cool Operation: You can convert a range to a list"
      ],
      "metadata": {
        "id": "72Cxp55ziPoa"
      },
      "execution_count": null,
      "outputs": []
    },
    {
      "cell_type": "code",
      "source": [
        "#@title 30.Common Operations: Find the length (Using Built-in Function)"
      ],
      "metadata": {
        "id": "ubwosLZvYiPv"
      },
      "execution_count": null,
      "outputs": []
    },
    {
      "cell_type": "code",
      "source": [
        "#@title 31.Common Operations: Find the maximum in the list (Using Built-in Function)"
      ],
      "metadata": {
        "id": "bsYWoh8viya7"
      },
      "execution_count": null,
      "outputs": []
    },
    {
      "cell_type": "code",
      "source": [
        "#@title 32.Common Operations: Find the minimum in the list (Using Built-in Function)"
      ],
      "metadata": {
        "id": "_dXOQIhsi88b"
      },
      "execution_count": null,
      "outputs": []
    },
    {
      "cell_type": "code",
      "source": [
        "#@title 33.Common Operations: Find the sum of elements in the list (Using Built-in Function)"
      ],
      "metadata": {
        "id": "EDcj1HkdjIXD"
      },
      "execution_count": null,
      "outputs": []
    },
    {
      "cell_type": "code",
      "source": [
        "#@title 34.Common Operations: Find the average of elements in the list (Using Built-in Function)"
      ],
      "metadata": {
        "id": "rQwWmGsnjMG0"
      },
      "execution_count": null,
      "outputs": []
    },
    {
      "cell_type": "code",
      "source": [
        "#@title 35.Common Operations: Find whether the list has any duplicate elements"
      ],
      "metadata": {
        "id": "YuaeC0FVjU81"
      },
      "execution_count": null,
      "outputs": []
    },
    {
      "cell_type": "code",
      "source": [
        "#@title 36.Common Operations: Multiply / Divide / Do something to every element in the list"
      ],
      "metadata": {
        "id": "6ENoMN_Pjr1t"
      },
      "execution_count": null,
      "outputs": []
    },
    {
      "cell_type": "code",
      "source": [
        "#@title 37.List Unpacking (N to <N mapping)"
      ],
      "metadata": {
        "id": "4UgT1N2MkFY6"
      },
      "execution_count": null,
      "outputs": []
    },
    {
      "cell_type": "code",
      "source": [
        "#@title 38.List Unpacking (N to <N mapping)"
      ],
      "metadata": {
        "id": "oHnK7xtkkKoM"
      },
      "execution_count": null,
      "outputs": []
    },
    {
      "cell_type": "code",
      "source": [
        "#@title 39.Printing a List (*)"
      ],
      "metadata": {
        "id": "5MXjd3xIkieL"
      },
      "execution_count": null,
      "outputs": []
    },
    {
      "cell_type": "code",
      "source": [
        "#@title 40.List Slicing"
      ],
      "metadata": {
        "id": "05fSVpKRkoc8"
      },
      "execution_count": null,
      "outputs": []
    },
    {
      "cell_type": "code",
      "source": [
        "#@title 41.List Comprehension"
      ],
      "metadata": {
        "id": "C9igc0NqkuTz"
      },
      "execution_count": null,
      "outputs": []
    },
    {
      "cell_type": "code",
      "source": [
        "#@title 42.Two Dimenstional Lists  (List of Lists)"
      ],
      "metadata": {
        "id": "Z4lXBQV0knD_"
      },
      "execution_count": null,
      "outputs": []
    },
    {
      "cell_type": "code",
      "source": [
        "#@title 43.Zipping two or three lists"
      ],
      "metadata": {
        "id": "OtnBbCUasGXV"
      },
      "execution_count": null,
      "outputs": []
    },
    {
      "cell_type": "code",
      "source": [
        "#@title 44.Applying a map funciton on the lists"
      ],
      "metadata": {
        "id": "dPqwLI6RsLxM"
      },
      "execution_count": null,
      "outputs": []
    }
  ]
}