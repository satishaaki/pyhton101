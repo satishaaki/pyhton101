{
  "nbformat": 4,
  "nbformat_minor": 0,
  "metadata": {
    "colab": {
      "provenance": [],
      "authorship_tag": "ABX9TyNAxqkZA0zIq3XiQdD59hKN",
      "include_colab_link": true
    },
    "kernelspec": {
      "name": "python3",
      "display_name": "Python 3"
    },
    "language_info": {
      "name": "python"
    }
  },
  "cells": [
    {
      "cell_type": "markdown",
      "metadata": {
        "id": "view-in-github",
        "colab_type": "text"
      },
      "source": [
        "<a href=\"https://colab.research.google.com/github/satishaaki/pyhton101/blob/main/assignment8.ipynb\" target=\"_parent\"><img src=\"https://colab.research.google.com/assets/colab-badge.svg\" alt=\"Open In Colab\"/></a>"
      ]
    },
    {
      "cell_type": "markdown",
      "source": [
        "Assignment-8.1\n",
        "write a function that returns greater of 3"
      ],
      "metadata": {
        "id": "XBT8G4AfVAqU"
      }
    },
    {
      "cell_type": "code",
      "source": [
        "def gmax(a,b,c):\n",
        "    if(a>b):\n",
        "        if(a>c):\n",
        "            return a\n",
        "        elif(b>c):\n",
        "            return b\n",
        "    elif(b>c):\n",
        "        return b\n",
        "    else:\n",
        "        return c\n",
        "x=gmax(10,20,30)\n",
        "print(x)\n",
        "y=gmax('aaki','satish','babu')\n",
        "print(y)\n",
        "z=gmax(10.45,10.56,10.99)\n",
        "print(z)"
      ],
      "metadata": {
        "colab": {
          "base_uri": "https://localhost:8080/"
        },
        "id": "rQdMU32jVY6C",
        "outputId": "524e797d-5687-4299-ffab-40644b939293"
      },
      "execution_count": 1,
      "outputs": [
        {
          "output_type": "stream",
          "name": "stdout",
          "text": [
            "30\n",
            "satish\n",
            "10.99\n"
          ]
        }
      ]
    },
    {
      "cell_type": "markdown",
      "source": [
        "Assignment-8.2\n",
        "implement isLeapYear() function and perform the testing"
      ],
      "metadata": {
        "id": "6mqUVaX1aLp4"
      }
    },
    {
      "cell_type": "code",
      "source": [
        "#The year is multiple of 400.\n",
        "#The year is multiple of 4 and not multiple of 100.\n",
        "def isLeapYear(year):\n",
        "    if(year%4==0):\n",
        "        if(year%100==0):\n",
        "            if(year%400==0):\n",
        "                return True\n",
        "        else:\n",
        "            return False\n",
        "    else:\n",
        "        return False\n",
        "year=int(input(\"Enter any year:\"))        \n",
        "x=isLeapYear(year)\n",
        "if(x):\n",
        "    print(year,\"is a leap Year\")\n",
        "else:\n",
        "    print(year,\"is not a leap Year\")"
      ],
      "metadata": {
        "colab": {
          "base_uri": "https://localhost:8080/"
        },
        "id": "DO4HaAXLaPk9",
        "outputId": "bb65ecaa-5726-4d3c-e40f-b4a79fbe3204"
      },
      "execution_count": 3,
      "outputs": [
        {
          "output_type": "stream",
          "name": "stdout",
          "text": [
            "Enter any year:2016\n",
            "2016 is not a leap Year\n"
          ]
        }
      ]
    }
  ]
}