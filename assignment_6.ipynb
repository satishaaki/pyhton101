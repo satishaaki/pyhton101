{
  "nbformat": 4,
  "nbformat_minor": 0,
  "metadata": {
    "colab": {
      "provenance": [],
      "authorship_tag": "ABX9TyMVE3jDNFVZuohw11jXeXLs",
      "include_colab_link": true
    },
    "kernelspec": {
      "name": "python3",
      "display_name": "Python 3"
    },
    "language_info": {
      "name": "python"
    }
  },
  "cells": [
    {
      "cell_type": "markdown",
      "metadata": {
        "id": "view-in-github",
        "colab_type": "text"
      },
      "source": [
        "<a href=\"https://colab.research.google.com/github/satishaaki/pyhton101/blob/main/assignment_6.ipynb\" target=\"_parent\"><img src=\"https://colab.research.google.com/assets/colab-badge.svg\" alt=\"Open In Colab\"/></a>"
      ]
    },
    {
      "cell_type": "markdown",
      "source": [
        "Assignment--6.1\n",
        "Distance travelled problem"
      ],
      "metadata": {
        "id": "K_AH19AIB2CU"
      }
    },
    {
      "cell_type": "code",
      "source": [
        "speed=input(\"Enter the speed of the vehicle:\")\n",
        "speed=int(speed)\n",
        "hours=input(\"Enter the number of hours travelled:\")\n",
        "hours=int(hours)\n",
        "print(\"Hours--Distance travelled\")\n",
        "for i in range(1,hours+1):\n",
        "    distance=speed*i\n",
        "    print(i,\"--\",distance)"
      ],
      "metadata": {
        "id": "ZNi21XjeB_zG"
      },
      "execution_count": null,
      "outputs": []
    },
    {
      "cell_type": "markdown",
      "source": [
        "Assignment-6.2\n",
        "Celsius t Fahrenheit Table\n",
        "Formula:F=9/5*C+32\n",
        "where F is temparature in Fahrenheit\n",
        "      C is temparature in Celsius"
      ],
      "metadata": {
        "id": "djK94azoCQAX"
      }
    },
    {
      "cell_type": "code",
      "source": [
        "print(\"Celsius--Fahrenheit\")\n",
        "for i in range(21):\n",
        "    f=9/5*i+32\n",
        "    print(i,'--',f)"
      ],
      "metadata": {
        "colab": {
          "base_uri": "https://localhost:8080/"
        },
        "id": "i-_-qGlMCX92",
        "outputId": "55b55e9f-3f07-4bf7-d183-b56f007714c1"
      },
      "execution_count": 2,
      "outputs": [
        {
          "output_type": "stream",
          "name": "stdout",
          "text": [
            "Celsius--Fahrenheit\n",
            "0 -- 32.0\n",
            "1 -- 33.8\n",
            "2 -- 35.6\n",
            "3 -- 37.4\n",
            "4 -- 39.2\n",
            "5 -- 41.0\n",
            "6 -- 42.8\n",
            "7 -- 44.6\n",
            "8 -- 46.4\n",
            "9 -- 48.2\n",
            "10 -- 50.0\n",
            "11 -- 51.8\n",
            "12 -- 53.6\n",
            "13 -- 55.400000000000006\n",
            "14 -- 57.2\n",
            "15 -- 59.0\n",
            "16 -- 60.8\n",
            "17 -- 62.6\n",
            "18 -- 64.4\n",
            "19 -- 66.2\n",
            "20 -- 68.0\n"
          ]
        }
      ]
    }
  ]
}